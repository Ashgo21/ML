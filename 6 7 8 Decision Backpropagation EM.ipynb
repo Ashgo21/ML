{
  "cells": [
    {
      "cell_type": "markdown",
      "metadata": {},
      "source": [
        "<h1>Decision Tree"
      ]
    },
    {
      "cell_type": "code",
      "execution_count": 2,
      "metadata": {},
      "outputs": [
        {
          "name": "stderr",
          "output_type": "stream",
          "text": [
            "C:\\Users\\Krishna Kausik\\AppData\\Local\\Temp\\ipykernel_1720\\2134728305.py:63: UserWarning: Boolean Series key will be reindexed to match DataFrame index.\n",
            "  p = len(df[df[current_root[0]] == child][df[target] == 'Yes'])\n",
            "C:\\Users\\Krishna Kausik\\AppData\\Local\\Temp\\ipykernel_1720\\2134728305.py:64: UserWarning: Boolean Series key will be reindexed to match DataFrame index.\n",
            "  n = len(df[df[current_root[0]] == child][df[target] == 'No'])\n"
          ]
        },
        {
          "name": "stdout",
          "output_type": "stream",
          "text": [
            "outlook ['Sunny', 'Overcast', 'Rain']\n",
            "Sunny ['humidity']\n",
            "humidity ['High', 'Normal']\n",
            "Overcast Yes\n",
            "Rain ['wind']\n",
            "wind ['Weak', 'Strong']\n",
            "High No\n",
            "Normal Yes\n",
            "Weak Yes\n",
            "Strong No\n"
          ]
        }
      ],
      "source": [
        "import pandas as pd\n",
        "import math\n",
        "\n",
        "# Load data from CSV file\n",
        "data = pd.read_csv(r'play_tennis.csv')\n",
        "\n",
        "# Remove the 'day' column\n",
        "data.drop(columns=['day'],inplace=True)\n",
        "\n",
        "# Set the target attribute\n",
        "target = 'play'\n",
        "\n",
        "# Calculate entropy of a dataset based on the 'play' attribute\n",
        "def entropy(df):\n",
        "    s = df[target]\n",
        "    p = len(s[s == \"Yes\"])\n",
        "    n = len(s[s == \"No\"])\n",
        "    a = p / (p + n)\n",
        "    b = n / (p + n)\n",
        "    \n",
        "    if a == 0:\n",
        "        return -round(b * math.log2(b), 2)\n",
        "    elif b == 0:\n",
        "        return -round(a * math.log2(a), 2)\n",
        "    \n",
        "    return -round((a * math.log2(a) + b * math.log2(b)), 2)\n",
        "\n",
        "# Select the root attribute for the decision tree\n",
        "def root_selection(df):\n",
        "    attr = df.columns[:-1]\n",
        "    n = len(df)\n",
        "    root = ''\n",
        "    q = 0\n",
        "    \n",
        "    for att in attr:\n",
        "        unique = df[att].unique()\n",
        "        s = 0\n",
        "        e = entropy(df)\n",
        "        \n",
        "        for u in unique:\n",
        "            s += (len(df[df[att] == u]) / n) * entropy(df[df[att] == u])\n",
        "        \n",
        "        if (e - s) > q:\n",
        "            q = e - s\n",
        "            root = att\n",
        "            \n",
        "    return root\n",
        "\n",
        "# Initialize the decision tree\n",
        "tree = {}\n",
        "df = data\n",
        "root = root_selection(df)\n",
        "current_root = [root, df.index]\n",
        "tree[current_root[0]] = []\n",
        "opened = [current_root]\n",
        "\n",
        "# Construct the decision tree\n",
        "while len(opened) != 0:\n",
        "    current_root = opened.pop(0)\n",
        "    for child in data[current_root[0]].unique():\n",
        "        df = data.iloc[current_root[-1]]\n",
        "        tree[current_root[0]].append(child)\n",
        "        p = len(df[df[current_root[0]] == child][df[target] == 'Yes'])\n",
        "        n = len(df[df[current_root[0]] == child][df[target] == 'No'])\n",
        "        \n",
        "        if p == 0:\n",
        "            tree[child] = 'No'\n",
        "        elif n == 0:\n",
        "            tree[child] = 'Yes'\n",
        "        else:\n",
        "            d1 = df[df[current_root[0]] == child]\n",
        "            r = root_selection(d1)\n",
        "            tree[child] = [r]\n",
        "            tree[r] = []\n",
        "            opened.append([r, d1.index])\n",
        "\n",
        "# Print the constructed decision tree\n",
        "for i in tree:\n",
        "    print(i, tree[i])\n"
      ]
    },
    {
      "cell_type": "markdown",
      "metadata": {
        "id": "9Kag_nmsbomT"
      },
      "source": [
        "# **Backpropagation**"
      ]
    },
    {
      "cell_type": "code",
      "execution_count": null,
      "metadata": {
        "colab": {
          "base_uri": "https://localhost:8080/"
        },
        "id": "g8OMiTvSbk8b",
        "outputId": "e067a046-6d5a-486f-c696-01270c580eef"
      },
      "outputs": [
        {
          "name": "stdout",
          "output_type": "stream",
          "text": [
            "-----------Epoch- 1 Starts----------\n",
            "Input: \n",
            "[[0.66666667 1.        ]\n",
            " [0.33333333 0.55555556]\n",
            " [1.         0.66666667]]\n",
            "Actual Output: \n",
            "[[0.92]\n",
            " [0.86]\n",
            " [0.89]]\n",
            "Predicted Output: \n",
            " [[0.73872352]\n",
            " [0.73597939]\n",
            " [0.74083794]]\n",
            "-----------Epoch- 1 Ends----------\n",
            "\n",
            "-----------Epoch- 2 Starts----------\n",
            "Input: \n",
            "[[0.66666667 1.        ]\n",
            " [0.33333333 0.55555556]\n",
            " [1.         0.66666667]]\n",
            "Actual Output: \n",
            "[[0.92]\n",
            " [0.86]\n",
            " [0.89]]\n",
            "Predicted Output: \n",
            " [[0.73991353]\n",
            " [0.73710471]\n",
            " [0.74207589]]\n",
            "-----------Epoch- 2 Ends----------\n",
            "\n",
            "-----------Epoch- 3 Starts----------\n",
            "Input: \n",
            "[[0.66666667 1.        ]\n",
            " [0.33333333 0.55555556]\n",
            " [1.         0.66666667]]\n",
            "Actual Output: \n",
            "[[0.92]\n",
            " [0.86]\n",
            " [0.89]]\n",
            "Predicted Output: \n",
            " [[0.74108758]\n",
            " [0.73821511]\n",
            " [0.743297  ]]\n",
            "-----------Epoch- 3 Ends----------\n",
            "\n",
            "-----------Epoch- 4 Starts----------\n",
            "Input: \n",
            "[[0.66666667 1.        ]\n",
            " [0.33333333 0.55555556]\n",
            " [1.         0.66666667]]\n",
            "Actual Output: \n",
            "[[0.92]\n",
            " [0.86]\n",
            " [0.89]]\n",
            "Predicted Output: \n",
            " [[0.74224598]\n",
            " [0.73931089]\n",
            " [0.74450157]]\n",
            "-----------Epoch- 4 Ends----------\n",
            "\n",
            "-----------Epoch- 5 Starts----------\n",
            "Input: \n",
            "[[0.66666667 1.        ]\n",
            " [0.33333333 0.55555556]\n",
            " [1.         0.66666667]]\n",
            "Actual Output: \n",
            "[[0.92]\n",
            " [0.86]\n",
            " [0.89]]\n",
            "Predicted Output: \n",
            " [[0.74338905]\n",
            " [0.74039232]\n",
            " [0.74568994]]\n",
            "-----------Epoch- 5 Ends----------\n",
            "\n",
            "Input: \n",
            "[[0.66666667 1.        ]\n",
            " [0.33333333 0.55555556]\n",
            " [1.         0.66666667]]\n",
            "Actual Output: \n",
            "[[0.92]\n",
            " [0.86]\n",
            " [0.89]]\n",
            "Predicted Output: \n",
            " [[0.74338905]\n",
            " [0.74039232]\n",
            " [0.74568994]]\n"
          ]
        }
      ],
      "source": [
        "import numpy as np\n",
        "\n",
        "X = np.array(([2, 9], [1, 5], [3, 6]), dtype=float)\n",
        "y = np.array(([92], [86], [89]), dtype=float)\n",
        "X = X/np.amax(X,axis=0) #maximum of X array longitudinally\n",
        "y = y/100\n",
        "\n",
        "#Sigmoid Function\n",
        "def sigmoid (x):\n",
        "    return 1/(1 + np.exp(-x))\n",
        "\n",
        "#Derivative of Sigmoid Function\n",
        "def derivatives_sigmoid(x):\n",
        "    return x * (1 - x)\n",
        "\n",
        "#Variable initialization\n",
        "epoch=5 #Setting training iterations\n",
        "lr=0.1 #Setting learning rate\n",
        "\n",
        "inputlayer_neurons = 2 #number of features in data set\n",
        "hiddenlayer_neurons = 1 #number of hidden layers neurons\n",
        "output_neurons = 1 #number of neurons at output layer\n",
        "#weight and bias initialization\n",
        "\n",
        "wh=np.random.uniform(size=(inputlayer_neurons,hiddenlayer_neurons))\n",
        "bh=np.random.uniform(size=(1,hiddenlayer_neurons))\n",
        "wout=np.random.uniform(size=(hiddenlayer_neurons,output_neurons))\n",
        "bout=np.random.uniform(size=(1,output_neurons))\n",
        "\n",
        "#draws a random range of numbers uniformly of dim x*y\n",
        "for i in range(epoch):\n",
        "    #Forward Propogation\n",
        "    hinp1=np.dot(X,wh)\n",
        "    hinp=hinp1 + bh\n",
        "    hlayer_act = sigmoid(hinp)\n",
        "    outinp1=np.dot(hlayer_act,wout)\n",
        "    outinp= outinp1+bout\n",
        "    output = sigmoid(outinp)\n",
        "\n",
        "    #Backpropagation\n",
        "    EO = y-output\n",
        "    outgrad = derivatives_sigmoid(output)\n",
        "    d_output = EO * outgrad\n",
        "    EH = d_output.dot(wout.T)\n",
        "    hiddengrad = derivatives_sigmoid(hlayer_act)#how much hidden layer wts contributed to error\n",
        "    d_hiddenlayer = EH * hiddengrad\n",
        "\n",
        "    wout += hlayer_act.T.dot(d_output) *lr   # dotproduct of nextlayererror and currentlayerop\n",
        "    wh += X.T.dot(d_hiddenlayer) *lr\n",
        "\n",
        "    print (\"-----------Epoch-\", i+1, \"Starts----------\")\n",
        "    print(\"Input: \\n\" + str(X))\n",
        "    print(\"Actual Output: \\n\" + str(y))\n",
        "    print(\"Predicted Output: \\n\" ,output)\n",
        "    print (\"-----------Epoch-\", i+1, \"Ends----------\\n\")\n",
        "\n",
        "print(\"Input: \\n\" + str(X))\n",
        "print(\"Actual Output: \\n\" + str(y))\n",
        "print(\"Predicted Output: \\n\" ,output)"
      ]
    },
    {
      "cell_type": "markdown",
      "metadata": {
        "id": "XbVUeWqGcGGE"
      },
      "source": [
        "# **EM - Algorithm**"
      ]
    },
    {
      "cell_type": "code",
      "execution_count": null,
      "metadata": {
        "colab": {
          "base_uri": "https://localhost:8080/",
          "height": 421
        },
        "id": "P2h0crEtRTHG",
        "outputId": "4fe8504e-db97-4539-ff37-47b2d8c6dbb9"
      },
      "outputs": [
        {
          "name": "stderr",
          "output_type": "stream",
          "text": [
            "/usr/local/lib/python3.10/dist-packages/sklearn/cluster/_kmeans.py:870: FutureWarning: The default value of `n_init` will change from 10 to 'auto' in 1.4. Set the value of `n_init` explicitly to suppress the warning\n",
            "  warnings.warn(\n"
          ]
        },
        {
          "name": "stdout",
          "output_type": "stream",
          "text": [
            "Observation: The GMM using EM algorithm based clustering matched the true labels more closely than the Kmeans.\n"
          ]
        },
        {
          "data": {
            "image/png": "[encoded data removed]",
            "text/plain": [
              "<Figure size 1000x700 with 3 Axes>"
            ]
          },
          "metadata": {},
          "output_type": "display_data"
        }
      ],
      "source": [
        "import matplotlib.pyplot as plt\n",
        "from sklearn import datasets\n",
        "import pandas as pd\n",
        "from sklearn.cluster import KMeans\n",
        "from sklearn.mixture import GaussianMixture\n",
        "import numpy as np\n",
        "\n",
        "iris = datasets.load_iris()\n",
        "X = pd.DataFrame(iris.data)\n",
        "X.columns = ['Sepal_Length','Sepal_width','Petal_Length','Petal_width']\n",
        "y = pd.DataFrame(iris.target)\n",
        "y.columns = ['Targets']\n",
        "# Build the K Means Model\n",
        "model=KMeans(n_clusters=3, random_state=0).fit(X)\n",
        "plt.figure(figsize=(10,7))\n",
        "colormap = np.array(['red', 'lime', 'black'])\n",
        "# Plot the original Classifications using Petal features\n",
        "plt.subplot(2, 3, 1)\n",
        "plt.scatter(X.Petal_Length, X.Petal_width, c=colormap[y.Targets])\n",
        "plt.title('Real Clusters')\n",
        "plt.xlabel('Petal Length')\n",
        "plt.ylabel('Petal width')\n",
        "plt.subplot(2, 3, 2)\n",
        "plt.scatter(X.Petal_Length, X.Petal_width, c=colormap[model.labels_])\n",
        "plt.title('K-Means Clustering')\n",
        "plt.xlabel('Petal Length')\n",
        "plt.ylabel('Petal width')\n",
        "gmm=GaussianMixture(n_components=3, random_state=0).fit(X)\n",
        "gmm_y=gmm.predict(X)\n",
        "plt.subplot(2, 3, 3)\n",
        "plt.scatter (X.Petal_Length, X.Petal_width, c=colormap[gmm_y])\n",
        "plt.title('GMM Clustering')\n",
        "plt.xlabel('Petal Length')\n",
        "plt.ylabel('Petal width')\n",
        "print('Observation: The GMM using EM algorithm based clustering matched the true labels more closely than the Kmeans.')"
      ]
    }
  ],
  "metadata": {
    "colab": {
      "provenance": []
    },
    "kernelspec": {
      "display_name": "Python 3",
      "name": "python3"
    },
    "language_info": {
      "codemirror_mode": {
        "name": "ipython",
        "version": 3
      },
      "file_extension": ".py",
      "mimetype": "text/x-python",
      "name": "python",
      "nbconvert_exporter": "python",
      "pygments_lexer": "ipython3",
      "version": "3.9.5"
    }
  },
  "nbformat": 4,
  "nbformat_minor": 0
}
