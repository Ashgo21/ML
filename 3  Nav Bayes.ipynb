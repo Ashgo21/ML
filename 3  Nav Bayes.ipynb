{
 "cells": [
  {
   "cell_type": "code",
   "execution_count": 41,
   "id": "83124e2c",
   "metadata": {},
   "outputs": [],
   "source": [
    "import pandas as pd\n",
    "import numpy as np"
   ]
  },
  {
   "cell_type": "code",
   "execution_count": 42,
   "id": "db718646",
   "metadata": {},
   "outputs": [],
   "source": [
    "df = pd.read_csv(\"Z:\\\\ML\\\\bayesian.csv\")\n",
    "dfp = df[df['Class'] =='P']  #all positive cases\n",
    "dfn = df[df['Class'] =='N']  #all negative cases"
   ]
  },
  {
   "cell_type": "code",
   "execution_count": 43,
   "id": "47daade8",
   "metadata": {},
   "outputs": [
    {
     "data": {
      "text/plain": [
       "{'Outlook': ['sunny', 'overcast', 'rain'],\n",
       " 'Temperature': ['hot', 'mild', 'cool'],\n",
       " 'Humidity': ['high', 'normal'],\n",
       " 'Windy': [False, True]}"
      ]
     },
     "execution_count": 43,
     "metadata": {},
     "output_type": "execute_result"
    }
   ],
   "source": [
    "# col_att contains the columns and their attributes\n",
    "\n",
    "col_att = {}\n",
    "for i in df.columns:\n",
    "    col_att[i] = list(df[i].unique())\n",
    "col_att.pop('Class')\n",
    "col_att"
   ]
  },
  {
   "cell_type": "code",
   "execution_count": 30,
   "id": "495f3376",
   "metadata": {},
   "outputs": [
    {
     "name": "stdout",
     "output_type": "stream",
     "text": [
      "yes :  {'Outlook': {'sunny': 0.2222222222222222, 'overcast': 0.4444444444444444, 'rain': 0.3333333333333333}, 'Temperature': {'hot': 0.2222222222222222, 'mild': 0.4444444444444444, 'cool': 0.3333333333333333}, 'Humidity': {'high': 0.3333333333333333, 'normal': 0.6666666666666666}, 'Windy': {'False': 0.6666666666666666, 'True': 0.3333333333333333}}\n",
      "no :  {'Outlook': {'sunny': 0.6, 'overcast': 0.0, 'rain': 0.4}, 'Temperature': {'hot': 0.4, 'mild': 0.4, 'cool': 0.2}, 'Humidity': {'high': 0.8, 'normal': 0.2}, 'Windy': {'False': 0.4, 'True': 0.6}}\n"
     ]
    }
   ],
   "source": [
    "# y contains the probabilities when output is posiive\n",
    "# n contains the probabilities when output is negative\n",
    "\n",
    "y = {}\n",
    "n = {}\n",
    "for i in col_att:\n",
    "    t1 = {}\n",
    "    t2 = {}\n",
    "    for j in col_att[i]:\n",
    "        t1[str(j)] = list(dfp[i]).count(j)/len(dfp)\n",
    "        t2[str(j)] = list(dfn[i]).count(j)/len(dfn)\n",
    "    y[i] = t1\n",
    "    n[i] = t2\n",
    "print(\"yes : \",y)\n",
    "print(\"no : \",n)"
   ]
  },
  {
   "cell_type": "code",
   "execution_count": 39,
   "id": "ac3876dc",
   "metadata": {},
   "outputs": [
    {
     "name": "stdout",
     "output_type": "stream",
     "text": [
      "0.005291005291005291 0.02057142857142857\n"
     ]
    }
   ],
   "source": [
    "q = ['sunny','cool','high','True'] #test case\n",
    "prob_pos = 1\n",
    "prob_neg = 1\n",
    "l = 0\n",
    "for i in d:\n",
    "    prob_pos *= y[i][q[l]]\n",
    "    prob_neg *= n[i][q[l]]\n",
    "    l += 1\n",
    "prob_pos *= len(dfp)/len(df)\n",
    "prob_neg *= len(dfn)/len(df)\n",
    "print(prob_pos,prob_neg)"
   ]
  },
  {
   "cell_type": "code",
   "execution_count": 44,
   "id": "bd39a49e",
   "metadata": {},
   "outputs": [
    {
     "name": "stdout",
     "output_type": "stream",
     "text": [
      "Reject\n"
     ]
    }
   ],
   "source": [
    "if prob_neg<prob_pos:\n",
    "    print(\"Accept\")\n",
    "else:\n",
    "    print(\"Reject\")"
   ]
  },
  {
   "cell_type": "code",
   "execution_count": null,
   "id": "f72be460",
   "metadata": {},
   "outputs": [],
   "source": []
  },
  {
   "cell_type": "code",
   "execution_count": null,
   "id": "a2a8d747",
   "metadata": {},
   "outputs": [],
   "source": []
  },
  {
   "cell_type": "code",
   "execution_count": null,
   "id": "1ec89b7f",
   "metadata": {},
   "outputs": [],
   "source": []
  },
  {
   "cell_type": "code",
   "execution_count": null,
   "id": "b64bdd5f",
   "metadata": {},
   "outputs": [],
   "source": []
  },
  {
   "cell_type": "code",
   "execution_count": null,
   "id": "bbba7e84",
   "metadata": {},
   "outputs": [],
   "source": []
  },
  {
   "cell_type": "code",
   "execution_count": null,
   "id": "b6c44099",
   "metadata": {},
   "outputs": [],
   "source": []
  },
  {
   "cell_type": "code",
   "execution_count": null,
   "id": "c4fdf948",
   "metadata": {},
   "outputs": [],
   "source": []
  },
  {
   "cell_type": "code",
   "execution_count": null,
   "id": "393c030f",
   "metadata": {},
   "outputs": [],
   "source": []
  },
  {
   "cell_type": "code",
   "execution_count": null,
   "id": "3643d42a",
   "metadata": {},
   "outputs": [],
   "source": []
  },
  {
   "cell_type": "code",
   "execution_count": null,
   "id": "c1a1f5f8",
   "metadata": {},
   "outputs": [],
   "source": []
  }
 ],
 "metadata": {
  "kernelspec": {
   "display_name": "Python 3 (ipykernel)",
   "language": "python",
   "name": "python3"
  },
  "language_info": {
   "codemirror_mode": {
    "name": "ipython",
    "version": 3
   },
   "file_extension": ".py",
   "mimetype": "text/x-python",
   "name": "python",
   "nbconvert_exporter": "python",
   "pygments_lexer": "ipython3",
   "version": "3.9.7"
  }
 },
 "nbformat": 4,
 "nbformat_minor": 5
}
